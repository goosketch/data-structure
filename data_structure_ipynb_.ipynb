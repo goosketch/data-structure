{
  "nbformat": 4,
  "nbformat_minor": 0,
  "metadata": {
    "colab": {
      "provenance": [],
      "toc_visible": true
    },
    "kernelspec": {
      "name": "python3",
      "display_name": "Python 3"
    },
    "language_info": {
      "name": "python"
    }
  },
  "cells": [
    {
      "cell_type": "code",
      "execution_count": null,
      "metadata": {
        "id": "OeAp9zyovlrM"
      },
      "outputs": [],
      "source": [
        "#"
      ]
    },
    {
      "cell_type": "code",
      "source": [
        "# Write a code to create a string with your name and print it?\n",
        " # s=(\"sachin\")\n"
      ],
      "metadata": {
        "id": "3ISiUJopmJXk"
      },
      "execution_count": null,
      "outputs": []
    },
    {
      "cell_type": "markdown",
      "source": [],
      "metadata": {
        "id": "dw3tEOJiiiqw"
      }
    },
    {
      "cell_type": "markdown",
      "source": [],
      "metadata": {
        "id": "RKXi0UYXii3G"
      }
    },
    {
      "cell_type": "code",
      "source": [],
      "metadata": {
        "id": "VI6dkZTImOn-"
      },
      "execution_count": null,
      "outputs": []
    },
    {
      "cell_type": "markdown",
      "source": [],
      "metadata": {
        "id": "HXNN0Uacii6r"
      }
    },
    {
      "cell_type": "code",
      "source": [],
      "metadata": {
        "id": "rsaA5aQCijaB"
      },
      "execution_count": null,
      "outputs": []
    },
    {
      "cell_type": "code",
      "source": [],
      "metadata": {
        "id": "mCsdGQbkijdo"
      },
      "execution_count": null,
      "outputs": []
    },
    {
      "cell_type": "markdown",
      "source": [
        ":#data structure\n"
      ],
      "metadata": {
        "id": "FhIDb4GWvtH7"
      }
    },
    {
      "cell_type": "markdown",
      "source": [],
      "metadata": {
        "id": "h10VI5LiF-0l"
      }
    },
    {
      "cell_type": "markdown",
      "source": [],
      "metadata": {
        "id": "QDQoLI4avpFV"
      }
    },
    {
      "cell_type": "code",
      "source": [],
      "metadata": {
        "id": "O7q0_qsnTPQx"
      },
      "execution_count": null,
      "outputs": []
    },
    {
      "cell_type": "code",
      "source": [],
      "metadata": {
        "id": "t3NUvjNbTN9O"
      },
      "execution_count": null,
      "outputs": []
    },
    {
      "cell_type": "code",
      "source": [],
      "metadata": {
        "id": "7AOCu88WKunX"
      },
      "execution_count": null,
      "outputs": []
    },
    {
      "cell_type": "markdown",
      "source": [
        "1 what are the data structure and why the are important?\n",
        "  \n",
        "  data structure are the way of organising data ,and storing data in the computer mamory is called data structure .in data structure data can be modified and can be manipulated.\n",
        "\n",
        "2 Explain the mutable and immutable data structure .and there example?\n",
        "  \n",
        "  mutable are the data structures that can be modified or can be change\n",
        "  and remove that are called mutable data strutures like list , and etc.\n",
        "\n",
        "  immutable are the data struture that  can not be change and modified called\n",
        "  immutable data strutures like tuples\n",
        "\n",
        "3 what are the main difference btw list and tuple in the python ?\n",
        "  \n",
        "  the main difference btw list and tuple is\n",
        "  1 list are mutable and can be modified\n",
        "  2tuples are immutable\n",
        "\n",
        "4 describe how dictionaries store data in python ?\n",
        "  dictionaries store data in key : and value pairs we can get the access the values by key  \n",
        "\n",
        "5 why might you use set instead of list in pyhton?\n",
        "  \n",
        "  we use sets instead of list because set not show same element multiple times\n",
        "\n",
        "6 what are strings in python and how the are different from list ?\n",
        "\n",
        "  strings are the sequence of characters in single and double\n",
        "  but list are the sequence of characters the could be anything # integer ,float ,string anything .\n",
        "\n",
        "7 how tuples ensure the data integrity in python ?\n",
        "\n",
        "  tuple ensure the data integrity in python once tuples are created the cannot be change thats how the ensure the data integrity in python .\n",
        "\n",
        "8 what are hash table in python and how the relate to the dictionaries ?\n",
        "\n",
        "  hash tables are the type of data structure which efficiently store key_values\n",
        "  essentially acting as a dictionary.\n",
        "\n",
        "9 can list cantain different data type in python ?\n",
        "\n",
        "   yes list have different data type for instance strings ,integer.\n",
        "\n",
        "10 explain why strings are immutable in python?\n",
        "  \n",
        "  stings are immutable in python because once the are created the cannot be\n",
        "  change .\n",
        "\n",
        "11 what advantage  dictionaries offer over lists for certain tasks?\n",
        "\n",
        "   dictionaries are better then list in compare to searches ,and lookup ,\n",
        "   easy to use .\n",
        "\n",
        "12  define a scenrio where using tuple over a list would be preferable ?\n",
        "  \n",
        "  we can use tuple where fixed order of collection of elements .use where\n",
        "  immutable element are need\n",
        "\n",
        "13 how do sets handle duplicate values in  python ?\n",
        "\n",
        "   sets in python are immutable and do not duplicate the value or unordered.\n",
        "\n",
        "14 how does the \"in \" keyword work different in list and dictionaries ?\n",
        "\n",
        "   in list \"in \" operation take longer time for searches and in dictionaries\n",
        "   \"in\"operation take same amount time no matter how many items in the dictionaries\n",
        "\n",
        "15 can you modify the items of tuple .why or why not ?\n",
        "\n",
        "   NO the items of tuple can not be modify because once the created the can not\n",
        "   be change\n",
        "\n",
        "16 what is a nested dictionaries ,give an example of it and use of it?\n",
        "\n",
        "  A nested dictionary in python is a dictionary where one of its value in\n",
        "  another dictionary.store data in heirarchial order .\n",
        "\n",
        "17 describe the time comlexity of accessing element in a dictionaries ?\n",
        "\n",
        "   time complexity of accessing element in a dictionaries is o(1) on average\n",
        "\n",
        "18 in what situations lists are preferred over dictionaries?\n",
        "\n",
        "     A list is preferable over dictionary when the order of elements of collection is crucial frequently need adding ,and removing .\n",
        "\n",
        "19 why lists are considered as unordered and how does it affect the data\n",
        "   retrieval ?\n",
        "\n",
        "   list are simply used to list the imformation no need to orderered and unordererd items lists are best for general listing of imformation .\n",
        "\n",
        "20 Explain the difference btw list and dictionaries in terms of data\n",
        "   retrieval ?\n",
        "\n",
        "   A list refer to colllection of various index value pairs like that in the case of an array in c++\n",
        "   dictionaries are refer to hash table structureof  various pairs of key value\n",
        "\n",
        "   \n",
        "\n",
        "   \n",
        "\n",
        "\n",
        "\n",
        "\n",
        "\n",
        "   \n",
        "   \n",
        "\n",
        "\n",
        "   \n",
        "     "
      ],
      "metadata": {
        "id": "pDA_txhWv3TL"
      }
    },
    {
      "cell_type": "markdown",
      "source": [
        "# New Section"
      ],
      "metadata": {
        "id": "GjOdTiEPgs5G"
      }
    },
    {
      "cell_type": "markdown",
      "source": [],
      "metadata": {
        "id": "-B9a459Uh8pj"
      }
    },
    {
      "cell_type": "markdown",
      "source": [
        "#  "
      ],
      "metadata": {
        "id": "IAR5cxmwgtiK"
      }
    },
    {
      "cell_type": "code",
      "source": [
        "# 1 Write a code to create a string with your name and print it?\n",
        "s=(\"sachin\")\n",
        "print(s)\n"
      ],
      "metadata": {
        "colab": {
          "base_uri": "https://localhost:8080/"
        },
        "id": "fI1zjUEIPqCb",
        "outputId": "3fad7df8-41e8-4a34-a1dd-49be0fa8f103"
      },
      "execution_count": null,
      "outputs": [
        {
          "output_type": "stream",
          "name": "stdout",
          "text": [
            "sachin\n"
          ]
        }
      ]
    },
    {
      "cell_type": "code",
      "source": [
        "#2 Write a code to find the length of the string \"Hello World\"\n",
        "s=(\"hello world\")\n",
        "print(len(s))"
      ],
      "metadata": {
        "colab": {
          "base_uri": "https://localhost:8080/"
        },
        "id": "4Gl1Q9MwP1rs",
        "outputId": "3fa26b13-afd8-43d9-95b8-0aa04bf7e90d"
      },
      "execution_count": null,
      "outputs": [
        {
          "output_type": "stream",
          "name": "stdout",
          "text": [
            "11\n"
          ]
        }
      ]
    },
    {
      "cell_type": "code",
      "source": [
        "#3 Write a code to slice the first 3 characters from the string \"Python Programming\"\n",
        "s=(\"python programmnig\")\n",
        "print(s[0:3])\n",
        "\n"
      ],
      "metadata": {
        "colab": {
          "base_uri": "https://localhost:8080/"
        },
        "id": "lUdmeM_OTnHQ",
        "outputId": "0c6f720e-540e-4553-d649-13dfcb4ed4ef"
      },
      "execution_count": null,
      "outputs": [
        {
          "output_type": "stream",
          "name": "stdout",
          "text": [
            "pyt\n"
          ]
        }
      ]
    },
    {
      "cell_type": "code",
      "source": [
        "#  Write a code to convert the string \"hello\" to uppercase?\n",
        "s=(\"hello\")\n",
        "print(s.upper())"
      ],
      "metadata": {
        "id": "fhT1WTM7UbvH",
        "colab": {
          "base_uri": "https://localhost:8080/"
        },
        "outputId": "a2c1a8b0-5b36-45d5-d835-190ac0403d88"
      },
      "execution_count": null,
      "outputs": [
        {
          "output_type": "stream",
          "name": "stdout",
          "text": [
            "HELLO\n"
          ]
        }
      ]
    },
    {
      "cell_type": "code",
      "source": [
        "#Write a code to replace the word \"apple\" with \"orange\" in the string \"I like apple?\n",
        "s=(\"i like apple\")\n",
        "s.replace(\"apple\",\"orange\")\n"
      ],
      "metadata": {
        "colab": {
          "base_uri": "https://localhost:8080/",
          "height": 35
        },
        "id": "moMQhDInU9ke",
        "outputId": "989c442f-4313-48f9-e420-7052fbc1ca8d"
      },
      "execution_count": null,
      "outputs": [
        {
          "output_type": "execute_result",
          "data": {
            "text/plain": [
              "'i like orange'"
            ],
            "application/vnd.google.colaboratory.intrinsic+json": {
              "type": "string"
            }
          },
          "metadata": {},
          "execution_count": 3
        }
      ]
    },
    {
      "cell_type": "code",
      "source": [
        " #  Write a code to create a list with numbers 1 to 5 and print it?\n",
        " l=[1,2,3,4,5]\n",
        " print(l)\n",
        "\n"
      ],
      "metadata": {
        "colab": {
          "base_uri": "https://localhost:8080/"
        },
        "id": "Yke_4GpgX3O5",
        "outputId": "ca5d1932-961d-4cf2-8f25-efb91c338fbf"
      },
      "execution_count": null,
      "outputs": [
        {
          "output_type": "stream",
          "name": "stdout",
          "text": [
            "[1, 2, 3, 4, 5]\n"
          ]
        }
      ]
    },
    {
      "cell_type": "code",
      "source": [
        "# Write a code to append the number 10 to the list [1, 2, 3, 4]?\n",
        "l=[1,2,3,4]\n",
        "l.append(10)\n",
        "print(l)\n",
        "\n",
        "\n",
        "\n",
        "\n",
        "\n",
        "\n",
        "\n"
      ],
      "metadata": {
        "colab": {
          "base_uri": "https://localhost:8080/"
        },
        "id": "CEamipZyZDTL",
        "outputId": "5f926b9b-eec1-419e-bbe0-03fa75f3ebf6"
      },
      "execution_count": null,
      "outputs": [
        {
          "output_type": "stream",
          "name": "stdout",
          "text": [
            "[1, 2, 3, 4, 10]\n"
          ]
        }
      ]
    },
    {
      "cell_type": "code",
      "source": [
        "#  Write a code to remove the number 3 from the list [1, 2, 3, 4, 5]?\n",
        "list=[1,2,3,4,5]\n",
        "list.remove(3)\n",
        "print(list)"
      ],
      "metadata": {
        "colab": {
          "base_uri": "https://localhost:8080/"
        },
        "id": "DJBfGZ3dgyiG",
        "outputId": "bb4c9996-8317-44a6-c82e-64c2d3b1f81d"
      },
      "execution_count": null,
      "outputs": [
        {
          "output_type": "stream",
          "name": "stdout",
          "text": [
            "[1, 2, 4, 5]\n"
          ]
        }
      ]
    },
    {
      "cell_type": "code",
      "source": [
        "# Write a code to access the second element in the list ['a', 'b', 'c', 'd']?\n",
        "list=['a','b','c','d']\n",
        "print(list)\n",
        "\n"
      ],
      "metadata": {
        "colab": {
          "base_uri": "https://localhost:8080/"
        },
        "id": "60IBJ5ruiM_e",
        "outputId": "b5d3eaaf-32f0-4236-b1b3-fa0719fb1d1e"
      },
      "execution_count": null,
      "outputs": [
        {
          "output_type": "stream",
          "name": "stdout",
          "text": [
            "['a', 'b', 'c', 'd']\n"
          ]
        }
      ]
    },
    {
      "cell_type": "code",
      "source": [
        "#  Write a code to reverse the list [10, 20, 30, 40, 50].?\n",
        "list=[10,20,30,40,50]\n",
        "list.reverse()\n",
        "print(list)\n"
      ],
      "metadata": {
        "colab": {
          "base_uri": "https://localhost:8080/"
        },
        "id": "UbY_rclVi2JL",
        "outputId": "b7b7ab84-16da-463b-f551-f1708b190882"
      },
      "execution_count": null,
      "outputs": [
        {
          "output_type": "stream",
          "name": "stdout",
          "text": [
            "[50, 40, 30, 20, 10]\n"
          ]
        }
      ]
    },
    {
      "cell_type": "code",
      "source": [
        "# 11. Write a code to create a tuple with the elements 100, 200, 300 and print it?\n",
        "\n",
        "t=(100,200,300)\n",
        "print(t)"
      ],
      "metadata": {
        "colab": {
          "base_uri": "https://localhost:8080/"
        },
        "id": "pnvXf71Xjv2z",
        "outputId": "aad4e39d-1332-452b-a492-76388f636e4e"
      },
      "execution_count": null,
      "outputs": [
        {
          "output_type": "stream",
          "name": "stdout",
          "text": [
            "(100, 200, 300)\n"
          ]
        }
      ]
    },
    {
      "cell_type": "code",
      "source": [
        "# 12. Write a code to access the second-to-last element of the tuple ('red', 'green', 'blue', 'yellow')?\n",
        "t=('red','green','blue','yellow')\n",
        "print(t[2])"
      ],
      "metadata": {
        "colab": {
          "base_uri": "https://localhost:8080/"
        },
        "id": "-yg0pa37kFQ0",
        "outputId": "d244ee01-4af6-4c95-dfee-cc5b8c359696"
      },
      "execution_count": null,
      "outputs": [
        {
          "output_type": "stream",
          "name": "stdout",
          "text": [
            "blue\n"
          ]
        }
      ]
    },
    {
      "cell_type": "code",
      "source": [
        "#  Write a code to find the minimum number in the tuple (10, 20, 5, 15)?\n",
        "t=(10,20,5,15)\n",
        "print(min(t))"
      ],
      "metadata": {
        "colab": {
          "base_uri": "https://localhost:8080/"
        },
        "id": "Ooic8TInkxRP",
        "outputId": "4c36d082-93fe-4b65-824a-ccac28c220db"
      },
      "execution_count": null,
      "outputs": [
        {
          "output_type": "stream",
          "name": "stdout",
          "text": [
            "5\n"
          ]
        }
      ]
    },
    {
      "cell_type": "code",
      "source": [
        "# Write a code to find the index of the element \"cat\" in the tuple ('dog', 'cat', 'rabbit').\n",
        "t=('dog','cat','rabbit')\n",
        "print(t.index('cat'))"
      ],
      "metadata": {
        "colab": {
          "base_uri": "https://localhost:8080/"
        },
        "id": "K6rxof9rlFLE",
        "outputId": "6d8afa12-80d8-4e86-be5b-5b3c8270d2cc"
      },
      "execution_count": null,
      "outputs": [
        {
          "output_type": "stream",
          "name": "stdout",
          "text": [
            "1\n"
          ]
        }
      ]
    },
    {
      "cell_type": "code",
      "source": [
        "# . Write a code to create a tuple containing three different fruits and check if \"kiwi\" is in it\n",
        "t=('banana','apple','kiwi')\n",
        "print('kiwi'in t)"
      ],
      "metadata": {
        "colab": {
          "base_uri": "https://localhost:8080/"
        },
        "id": "n5AXOOuql1Jd",
        "outputId": "827edd65-96da-48d4-ef3c-b14c74e32ea5"
      },
      "execution_count": null,
      "outputs": [
        {
          "output_type": "stream",
          "name": "stdout",
          "text": [
            "True\n"
          ]
        }
      ]
    },
    {
      "cell_type": "code",
      "source": [
        "# . Write a code to create a set with the elements 'a', 'b', 'c' and print it\n",
        "s={'a','b','c'}\n",
        "print(s)\n"
      ],
      "metadata": {
        "colab": {
          "base_uri": "https://localhost:8080/"
        },
        "id": "jveKKBtLm05-",
        "outputId": "033e83b0-166f-46c2-97a3-186b5050f5b6"
      },
      "execution_count": null,
      "outputs": [
        {
          "output_type": "stream",
          "name": "stdout",
          "text": [
            "{'c', 'b', 'a'}\n"
          ]
        }
      ]
    },
    {
      "cell_type": "code",
      "source": [
        "#  Write a code to clear all elements from the set {1, 2, 3, 4, 5}.\n",
        "s={1,2,3,4,5}\n",
        "s.clear()\n",
        "print(s)\n"
      ],
      "metadata": {
        "colab": {
          "base_uri": "https://localhost:8080/"
        },
        "id": "FQQ1RsuHnheX",
        "outputId": "c82c83a6-0a26-4418-a200-e675bf159680"
      },
      "execution_count": null,
      "outputs": [
        {
          "output_type": "stream",
          "name": "stdout",
          "text": [
            "set()\n"
          ]
        }
      ]
    },
    {
      "cell_type": "code",
      "source": [
        "#Write a code to remove the element 4 from the set {1, 2, 3, 4}\n",
        "s={1,2,3,4}\n",
        "s.remove(4)\n",
        "print(s)"
      ],
      "metadata": {
        "colab": {
          "base_uri": "https://localhost:8080/"
        },
        "id": "SsM5lh-CnwlT",
        "outputId": "8befe8c9-aa47-4bdd-abd0-d321fac29443"
      },
      "execution_count": null,
      "outputs": [
        {
          "output_type": "stream",
          "name": "stdout",
          "text": [
            "{1, 2, 3}\n"
          ]
        }
      ]
    },
    {
      "cell_type": "code",
      "source": [
        "#  Write a code to find the union of two sets {1, 2, 3} and {3, 4, 5}.\n",
        "s1={1,2,3}\n",
        "s2={3,4,5}\n",
        "print(s1.union(s2))"
      ],
      "metadata": {
        "colab": {
          "base_uri": "https://localhost:8080/"
        },
        "id": "rBMA91rf5Yhp",
        "outputId": "1709d731-1574-4d54-92b9-986b647c0be5"
      },
      "execution_count": 31,
      "outputs": [
        {
          "output_type": "stream",
          "name": "stdout",
          "text": [
            "{1, 2, 3, 4, 5}\n"
          ]
        }
      ]
    },
    {
      "cell_type": "code",
      "source": [
        "#. Write a code to find the intersection of two sets {1, 2, 3} and {2, 3, 4}\n",
        "s1={1,2,3}\n",
        "s2={2,3,4}\n",
        "print(s1.intersection(s2))\n",
        "\n",
        ""
      ],
      "metadata": {
        "colab": {
          "base_uri": "https://localhost:8080/"
        },
        "id": "VcDCtj-f50di",
        "outputId": "d363e22d-c00d-44d3-c0d5-22d7b0922474"
      },
      "execution_count": 32,
      "outputs": [
        {
          "output_type": "stream",
          "name": "stdout",
          "text": [
            "{2, 3}\n"
          ]
        }
      ]
    },
    {
      "cell_type": "code",
      "source": [
        "# Write a code to create a dictionary with the keys \"name\", \"age\", and \"city\", and print it\n",
        "d={\"name\":\"sachin\",\"age\":\"20\",\"city\":\"bangalore\"}\n",
        "print(d)"
      ],
      "metadata": {
        "colab": {
          "base_uri": "https://localhost:8080/"
        },
        "id": "03QlIIlY50Z6",
        "outputId": "439b07fb-8a14-40e5-c287-a1f2c8bfc475"
      },
      "execution_count": 33,
      "outputs": [
        {
          "output_type": "stream",
          "name": "stdout",
          "text": [
            "{'name': 'sachin', 'age': '20', 'city': 'bangalore'}\n"
          ]
        }
      ]
    },
    {
      "cell_type": "code",
      "source": [
        "#  Write a code to add a new key-value pair \"country\": \"USA\" to the dictionary {'name': 'John', 'age': 25\n",
        "d={\"name\":\"john\",\"age\":\"25\"}\n",
        "d[\"country\"]=\"USA\"\n",
        "print(d)"
      ],
      "metadata": {
        "colab": {
          "base_uri": "https://localhost:8080/"
        },
        "id": "f5cQcO1T50X9",
        "outputId": "af491f83-54d3-46de-f7b9-d7934fc479c9"
      },
      "execution_count": 35,
      "outputs": [
        {
          "output_type": "stream",
          "name": "stdout",
          "text": [
            "{'name': 'john', 'age': '25', 'country': 'USA'}\n"
          ]
        }
      ]
    },
    {
      "cell_type": "code",
      "source": [
        "#  Write a code to access the value associated with the key \"name\" in the dictionary {'name': 'Alice', 'age': 30}\n",
        "d={\"name\":\"alice\",\"age\":30}\n",
        "print(d[\"name\"])"
      ],
      "metadata": {
        "colab": {
          "base_uri": "https://localhost:8080/"
        },
        "id": "7LLLUgrY8Mn1",
        "outputId": "4b130e00-c9b1-471e-8b36-3e063b60eebf"
      },
      "execution_count": 36,
      "outputs": [
        {
          "output_type": "stream",
          "name": "stdout",
          "text": [
            "alice\n"
          ]
        }
      ]
    },
    {
      "cell_type": "code",
      "source": [
        "# . Write a code to remove the key \"age\" from the dictionary {'name': 'Bob', 'age': 22, 'city': 'New York'}\n",
        "d={\"name\":\"bob\",\"age\":22,\"city\":\"new york\"}\n",
        "d.pop(\"age\")\n",
        "print(d)"
      ],
      "metadata": {
        "colab": {
          "base_uri": "https://localhost:8080/"
        },
        "id": "QZ0Zd66K8MkL",
        "outputId": "76e869bb-404b-4d34-dc37-f48c5ea83d18"
      },
      "execution_count": 37,
      "outputs": [
        {
          "output_type": "stream",
          "name": "stdout",
          "text": [
            "{'name': 'bob', 'city': 'new york'}\n"
          ]
        }
      ]
    },
    {
      "cell_type": "code",
      "source": [
        "#  Write a code to check if the key \"city\" exists in the dictionary {'name': 'Alice', 'city': 'Paris'}\n",
        "d={\"name\":\"alice\",\"city\":\"paris\"}\n",
        "print(\"city\" in d)"
      ],
      "metadata": {
        "colab": {
          "base_uri": "https://localhost:8080/"
        },
        "id": "3OSHQgXb8MSZ",
        "outputId": "d81097d7-e8fa-4b9b-9e11-e1eaa1501ce5"
      },
      "execution_count": 38,
      "outputs": [
        {
          "output_type": "stream",
          "name": "stdout",
          "text": [
            "True\n"
          ]
        }
      ]
    },
    {
      "cell_type": "code",
      "source": [
        "# . Write a code to create a list, a tuple, and a dictionary, and print them all\n",
        "l=[1,2,3,4]\n",
        "t=(1,2,3,4)\n",
        "d={1,2,3,4}\n",
        "print(l,t,d)"
      ],
      "metadata": {
        "colab": {
          "base_uri": "https://localhost:8080/"
        },
        "id": "KLi_k1IH9zmp",
        "outputId": "e7cb02a7-0f83-47f8-ac32-01d0322e34a0"
      },
      "execution_count": 42,
      "outputs": [
        {
          "output_type": "stream",
          "name": "stdout",
          "text": [
            "[1, 2, 3, 4] (1, 2, 3, 4) {1, 2, 3, 4}\n"
          ]
        }
      ]
    },
    {
      "cell_type": "code",
      "source": [
        "# Write a code to create a list of 5 random numbers between 1 and 100, sort it in ascending order, and print the result.(replaced)\n",
        "import random\n",
        "l=[1,2,3,4,5]\n",
        "l.sort()\n",
        "print(l)\n"
      ],
      "metadata": {
        "colab": {
          "base_uri": "https://localhost:8080/"
        },
        "id": "aJICQhiY-wiL",
        "outputId": "11d26da0-dbd3-4f62-9e4d-08a531cba42f"
      },
      "execution_count": 44,
      "outputs": [
        {
          "output_type": "stream",
          "name": "stdout",
          "text": [
            "[1, 2, 3, 4, 5]\n"
          ]
        }
      ]
    },
    {
      "cell_type": "code",
      "source": [
        "# Write a code to create a list with strings and print the element at the third index.\n",
        "l=[\"a\", \"b\",\"c\",\"d\"]\n",
        "print(l[3])\n",
        "\n",
        "\n",
        "\n",
        "\n",
        "\n",
        "\n",
        "\n"
      ],
      "metadata": {
        "colab": {
          "base_uri": "https://localhost:8080/"
        },
        "id": "3UuivtMr-wep",
        "outputId": "34ea6423-fdfe-49c1-fc04-df5cb7f21fc6"
      },
      "execution_count": 46,
      "outputs": [
        {
          "output_type": "stream",
          "name": "stdout",
          "text": [
            "d\n"
          ]
        }
      ]
    },
    {
      "cell_type": "markdown",
      "source": [],
      "metadata": {
        "id": "QN6_2go3-wF5"
      }
    },
    {
      "cell_type": "code",
      "source": [
        "#  Write a code to combine two dictionaries into one and print the result.\n",
        "d1={\"a\":1,\"b\":2}\n",
        "d2={\"c\":3,\"d\":4}\n",
        "d1.update(d2)\n",
        "print(d1)\n",
        "\n",
        "\n",
        "\n"
      ],
      "metadata": {
        "colab": {
          "base_uri": "https://localhost:8080/"
        },
        "id": "RGLaST1U9zha",
        "outputId": "a3c924c8-6dd7-4b43-b916-d0a0a9269219"
      },
      "execution_count": 47,
      "outputs": [
        {
          "output_type": "stream",
          "name": "stdout",
          "text": [
            "{'a': 1, 'b': 2, 'c': 3, 'd': 4}\n"
          ]
        }
      ]
    },
    {
      "cell_type": "code",
      "source": [
        "# Write a code to convert a list of strings into a set\n",
        "l=[\"a\",\"b\",\"c\",\"d\"]\n",
        "s=set(l)\n",
        "print(l)\n",
        "type(l)\n",
        "\n"
      ],
      "metadata": {
        "colab": {
          "base_uri": "https://localhost:8080/"
        },
        "id": "VNSLl2kK9zeQ",
        "outputId": "582f5cd9-a074-434a-98e9-f6b9b9016cbf"
      },
      "execution_count": 49,
      "outputs": [
        {
          "output_type": "stream",
          "name": "stdout",
          "text": [
            "['a', 'b', 'c', 'd']\n"
          ]
        },
        {
          "output_type": "execute_result",
          "data": {
            "text/plain": [
              "list"
            ]
          },
          "metadata": {},
          "execution_count": 49
        }
      ]
    },
    {
      "cell_type": "code",
      "source": [],
      "metadata": {
        "id": "iOI5HvGd9zbs"
      },
      "execution_count": null,
      "outputs": []
    },
    {
      "cell_type": "code",
      "source": [],
      "metadata": {
        "id": "HqE4YaPb8MEr"
      },
      "execution_count": null,
      "outputs": []
    },
    {
      "cell_type": "markdown",
      "source": [],
      "metadata": {
        "id": "6eTxTwUa8LR9"
      }
    },
    {
      "cell_type": "markdown",
      "source": [],
      "metadata": {
        "id": "Hv0QCDDt5XI9"
      }
    },
    {
      "cell_type": "code",
      "source": [],
      "metadata": {
        "id": "m9DKymS95zfA"
      },
      "execution_count": null,
      "outputs": []
    },
    {
      "cell_type": "markdown",
      "source": [],
      "metadata": {
        "id": "rTVUbWWS5XE8"
      }
    },
    {
      "cell_type": "markdown",
      "source": [],
      "metadata": {
        "id": "D3W3vkHo5W9h"
      }
    },
    {
      "cell_type": "code",
      "source": [],
      "metadata": {
        "id": "-J25VZp3oFvT"
      },
      "execution_count": null,
      "outputs": []
    }
  ]
}